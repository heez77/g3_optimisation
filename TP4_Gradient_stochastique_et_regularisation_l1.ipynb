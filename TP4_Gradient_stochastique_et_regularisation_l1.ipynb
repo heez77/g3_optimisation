{
 "cells": [
  {
   "cell_type": "markdown",
   "metadata": {
    "colab_type": "text",
    "id": "lnjzW0-TPMvF"
   },
   "source": [
    "# __Gradient Stochastique et régularisation  $\\ell^1$__"
   ]
  },
  {
   "cell_type": "markdown",
   "metadata": {},
   "source": [
    "<h1><a id='toc'></a>Sommaire</h1>\n",
    "\n",
    "<div class=\"alert alert-block alert-info\" style=\"margin-top: 20px\">\n",
    "    <ul>\n",
    "        <li><a href=\"#I\">I. Introduction </a></li>\n",
    "        <ul>\n",
    "        <li><a href=\"#I1\">I.1. Un exemple en dimension 1</a></li>\n",
    "        <li><a href=\"#I2\">I.2. Un cas degeneré</a></li>\n",
    "        <li><a href=\"#I3\">I.3. Un exemple en plus grande dimension </a></li>\n",
    "        </ul>\n",
    "        <li><a href=\"#II\">II. Optimisation numérique de $F_\\lambda$ par ISTA</a></li>\n",
    "        <ul>\n",
    "            <li><a href=\"#II1\">II.1. Réinterpretation de la méthode du gradient à pas constant</a></li> \n",
    "            <li><a href=\"#II2\">II.2. ISTA </a></li> \n",
    "        </ul>\n",
    "        <li><a href=\"#III\">III. Application à l'optimisation stochastique</a></li>\n",
    "    </ul>\n",
    "</div>\n",
    "<br>\n",
    "<hr>"
   ]
  },
  {
   "cell_type": "markdown",
   "metadata": {
    "colab_type": "text",
    "id": "Ie13pHt3gyh8"
   },
   "source": [
    "Importation des bibliothèques"
   ]
  },
  {
   "cell_type": "code",
   "execution_count": 3,
   "metadata": {},
   "outputs": [],
   "source": [
    "from toynn_2023 import *\n",
    "# charge aussi les bibliothèques suivantes :\n",
    "#    import numpy as np\n",
    "#    from numpy import random as nprd\n",
    "#    from matplotlib import pyplot as plt\n",
    "#    from matplotlib import cm as cm\n",
    "#    from copy import deepcopy as dcp\n",
    "import math as mt\n",
    "from numpy import linalg as ln"
   ]
  },
  {
   "cell_type": "markdown",
   "metadata": {},
   "source": [
    "# I. Introduction <a id='I'></a>"
   ]
  },
  {
   "cell_type": "markdown",
   "metadata": {},
   "source": [
    "<a href=\"#toc\">top</a>\n",
    "&nbsp;&nbsp;&nbsp;&nbsp;&nbsp;&nbsp;&nbsp;&nbsp;&nbsp;&nbsp;&nbsp;&nbsp;&nbsp;&nbsp;\n",
    "&nbsp;&nbsp;&nbsp;&nbsp;&nbsp;\n",
    "<a href=\"#I\">I.</a>\n",
    "&nbsp;&nbsp;&nbsp;&nbsp;&nbsp;&nbsp;&nbsp;&nbsp;\n",
    "<a href=\"#I1\">I.1</a>\n",
    "&nbsp;&nbsp;&nbsp;&nbsp;&nbsp;&nbsp;&nbsp;&nbsp;\n",
    "<a href=\"#I2\">I.2</a>\n",
    "&nbsp;&nbsp;&nbsp;&nbsp;&nbsp;&nbsp;&nbsp;&nbsp;\n",
    "<a href=\"#I3\">I.3</a>\n",
    "&nbsp;&nbsp;&nbsp;&nbsp;&nbsp;&nbsp;&nbsp;&nbsp;&nbsp;&nbsp;&nbsp;&nbsp;&nbsp;&nbsp;\n",
    "&nbsp;&nbsp;&nbsp;&nbsp;&nbsp;\n",
    "<a href=\"#II\">II.</a>\n",
    "&nbsp;&nbsp;&nbsp;&nbsp;&nbsp;&nbsp;&nbsp;&nbsp;\n",
    "<a href=\"#II1\">II.1</a>\n",
    "&nbsp;&nbsp;&nbsp;&nbsp;&nbsp;&nbsp;&nbsp;&nbsp;\n",
    "<a href=\"#II2\">II.2</a>\n",
    "&nbsp;&nbsp;&nbsp;&nbsp;&nbsp;&nbsp;&nbsp;&nbsp;&nbsp;&nbsp;&nbsp;&nbsp;&nbsp;&nbsp;\n",
    "&nbsp;&nbsp;&nbsp;&nbsp;&nbsp;\n",
    "<a href=\"#III\">III.</a>\n",
    "&nbsp;&nbsp;&nbsp;&nbsp;&nbsp;&nbsp;&nbsp;&nbsp;&nbsp;&nbsp;&nbsp;&nbsp;&nbsp;&nbsp;\n",
    "&nbsp;&nbsp;&nbsp;&nbsp;&nbsp;\n",
    "<a href=\"#bot\">bot.</a>"
   ]
  },
  {
   "cell_type": "markdown",
   "metadata": {},
   "source": [
    "On veut optimiser une fonction objectif régulière et convexe $F(w)$ mais on veut aussi privilégier les solutions parcimonieuses, c'est-à-dire les paramètres $w$ avec un grand nombre de composantes nulles. Pour cela, nous pénalisons la fonction objectif en ajoutant le terme ``régularisant'' $\\lambda\\|w\\|_1$. Ici $\\lambda\\geq0$ est le paramètre de pénalisation et\n",
    "$$\n",
    "\\|w\\|_1 :=\\sum_{j=0}^{N-1}|w_j|=|w_0|+|w_1|+\\dots+|w_{N-1}|\n",
    "$$\n",
    "est la norme $\\ell^1$ du vecteur $w$."
   ]
  },
  {
   "cell_type": "markdown",
   "metadata": {},
   "source": [
    "<a id='I1'></a>\n",
    "<h2>I.1. Un exemple en dimension 1</h2>"
   ]
  },
  {
   "cell_type": "markdown",
   "metadata": {},
   "source": [
    "<a href=\"#toc\">top</a>\n",
    "&nbsp;&nbsp;&nbsp;&nbsp;&nbsp;&nbsp;&nbsp;&nbsp;&nbsp;&nbsp;&nbsp;&nbsp;&nbsp;&nbsp;\n",
    "&nbsp;&nbsp;&nbsp;&nbsp;&nbsp;\n",
    "<a href=\"#I\">I.</a>\n",
    "&nbsp;&nbsp;&nbsp;&nbsp;&nbsp;&nbsp;&nbsp;&nbsp;\n",
    "<a href=\"#I1\">I.1</a>\n",
    "&nbsp;&nbsp;&nbsp;&nbsp;&nbsp;&nbsp;&nbsp;&nbsp;\n",
    "<a href=\"#I2\">I.2</a>\n",
    "&nbsp;&nbsp;&nbsp;&nbsp;&nbsp;&nbsp;&nbsp;&nbsp;\n",
    "<a href=\"#I3\">I.3</a>\n",
    "&nbsp;&nbsp;&nbsp;&nbsp;&nbsp;&nbsp;&nbsp;&nbsp;&nbsp;&nbsp;&nbsp;&nbsp;&nbsp;&nbsp;\n",
    "&nbsp;&nbsp;&nbsp;&nbsp;&nbsp;\n",
    "<a href=\"#II\">II.</a>\n",
    "&nbsp;&nbsp;&nbsp;&nbsp;&nbsp;&nbsp;&nbsp;&nbsp;\n",
    "<a href=\"#II1\">II.1</a>\n",
    "&nbsp;&nbsp;&nbsp;&nbsp;&nbsp;&nbsp;&nbsp;&nbsp;\n",
    "<a href=\"#II2\">II.2</a>\n",
    "&nbsp;&nbsp;&nbsp;&nbsp;&nbsp;&nbsp;&nbsp;&nbsp;&nbsp;&nbsp;&nbsp;&nbsp;&nbsp;&nbsp;\n",
    "&nbsp;&nbsp;&nbsp;&nbsp;&nbsp;\n",
    "<a href=\"#III\">III.</a>\n",
    "&nbsp;&nbsp;&nbsp;&nbsp;&nbsp;&nbsp;&nbsp;&nbsp;&nbsp;&nbsp;&nbsp;&nbsp;&nbsp;&nbsp;\n",
    "&nbsp;&nbsp;&nbsp;&nbsp;&nbsp;\n",
    "<a href=\"#bot\">bot.</a>"
   ]
  },
  {
   "cell_type": "markdown",
   "metadata": {},
   "source": [
    "Considérons d'abord le cas $N=1$. Soit $\\,\\bar w\\in\\mathbb{R}\\,$. On définit $\\,f(w)=\\frac12|w-\\bar w|^2\\,$ et pour $\\,\\lambda\\ge 0\\,$, on pose\n",
    "$$\\,f_\\lambda(w):=f(w)+\\lambda\\|w\\|_1\\,=\\, \\frac12|w-\\bar w|^2+\\lambda|w|.$$\n",
    "Le minimiseur de $\\,f\\,$ est évidemment $\\,\\bar w\\,$. Dans quelle mesure est-il perturbé par le terme régularisant ? Découvrons-le en calculant le minimiseur de $\\,f_\\lambda$."
   ]
  },
  {
   "cell_type": "markdown",
   "metadata": {},
   "source": [
    "**Remarques préliminaires.** La fonction $f$ est strictement convexe (elle est 1-convexe) et $w\\mapsto |w|$ est convexe donc la fonction résultante $f_\\lambda$ est $1$-convexe. Nous concluons que $f_\\lambda$ admet un unique minimiseur. On le note $w^*$ comme d'habitude.\n",
    "\n",
    "Pour $\\lambda>0$, la fonction $f_\\lambda$ n'est pas dérivable en $0$. Cependant, elle  est dérivable en tout point $w\\neq0$ et si $w^*\\neq 0$, on a la condition d'optimalité\n",
    "\n",
    "$$\n",
    "0=f'_\\lambda(w^*)=w^*-\\bar w +\\lambda \\mathop{signe}(w^*). \\tag{0}\n",
    "$$\n",
    "Inversement, si (0) est vrai en point $\\hat w\\neq0$, alors $\\hat w =w^*$."
   ]
  },
  {
   "cell_type": "markdown",
   "metadata": {},
   "source": [
    "Pour l'analyse on considère quatre cas selon les valeurs de $\\bar w$ et $\\lambda$."
   ]
  },
  {
   "cell_type": "markdown",
   "metadata": {},
   "source": [
    "**1. Premier cas**$\\,$ Si $\\bar w=0$, on a évidemment $w^*=0$ $~~$($\\,f_\\lambda(0)=0\\,$ et $\\, f_\\lambda(w)>0\\,$ si $\\,w\\neq0\\,$)."
   ]
  },
  {
   "cell_type": "markdown",
   "metadata": {},
   "source": [
    "**2. Deuxième cas**$\\,$ Si $\\lambda=0\\,$ alors $\\,f_\\lambda(w)=f(w)=\\frac12|w-\\bar w|^2\\,$ et le minimiseur est $\\,w^*=\\bar w$."
   ]
  },
  {
   "cell_type": "markdown",
   "metadata": {},
   "source": [
    "**3. Troisième cas** Nous supposons $\\lambda>0$ et $\\bar w>0$. Nous remarquons d'abord que $w^*\\geq 0$.\n",
    "En effet, pour $\\,w<0\\,$, il existe $\\quad|w-\\bar w|= \\bar w - w>\\bar w = |0-\\bar w|,\\quad $ so\n",
    "$\\quad\n",
    "f_\\lambda(w)>f_\\lambda(0)\\geq f_\\lambda(w^*)\n",
    "\\quad$ et nous voyons que $\\,w^*\\neq w$.\n",
    "\n",
    "Ensuite, si $\\,w^*>0\\,$, alors par (0) nous avons $\\,w^*=\\bar w-\\lambda$. Ce nombre est positif si et seulement si $\\,\\bar w>\\lambda$. Nous concluons que :\n",
    "\n",
    "$$\n",
    "w^*=\\begin{cases}\\bar w-\\lambda &\\text{if } \\bar w>\\lambda,\\\\\n",
    "\\quad 0 & \\text{if } 0<\\bar w\\leq\\lambda. \\end{cases}\n",
    "$$"
   ]
  },
  {
   "cell_type": "markdown",
   "metadata": {},
   "source": [
    "**4. Quatrième cas** Nous supposons toujours $\\,\\lambda>0\\,$ mais $\\,\\bar w<0$. En raisonnant comme ci-dessus, on voit que $\\,w^*\\leq 0\\,$ puis\n",
    "\n",
    "$$\n",
    "w^*=\\begin{cases}\\bar w+\\lambda &\\text{if } \\bar w<-\\lambda,\\\\\n",
    "\\quad 0 & \\text{if } -\\lambda\\leq \\bar w<0. \\end{cases}\n",
    "$$"
   ]
  },
  {
   "cell_type": "markdown",
   "metadata": {},
   "source": [
    "**Conclusion** En résumé :\n",
    "$$\n",
    "w^*=\\begin{cases}\\bar w-\\lambda\\ \\text{sign}\\,\\bar w &\\text{if } |\\bar w|>\\lambda,\\\\\n",
    "\\qquad 0 & \\text{if } |\\bar w|\\leq \\lambda. \\end{cases}\n",
    "$$\n",
    "\n",
    "On peut mesurer la distance entre le minimiseur de $\\,f\\,$ et le minimiseur de $\\,f_\\lambda\\,$ :\n",
    "\n",
    "$$\n",
    "|\\bar w|>\\lambda\\ \\Longrightarrow\\ |w^* -\\bar w|=\\lambda\\qquad\\text{and}\\qquad\n",
    "|\\bar w|\\le\\lambda\\ \\Longrightarrow\\ |w^* -\\bar w|=|\\bar w|.\n",
    "$$\n",
    "\n",
    "Dans tous les cas :$\\qquad\\qquad\\qquad\\qquad\\qquad|w^* -\\bar w|\\leq \\lambda$."
   ]
  },
  {
   "cell_type": "markdown",
   "metadata": {},
   "source": [
    "Voici les tracés du graphique de la fonction $\\bar w\\mapsto w^*$ pour $\\lambda =0$, $\\lambda=1$, $\\lambda=2$ et $\\lambda=4$."
   ]
  },
  {
   "cell_type": "code",
   "execution_count": 4,
   "metadata": {},
   "outputs": [
    {
     "data": {
      "image/png": "[encoded data removed]",
      "text/plain": [
       "<Figure size 1152x252 with 4 Axes>"
      ]
     },
     "metadata": {
      "needs_background": "light"
     },
     "output_type": "display_data"
    }
   ],
   "source": [
    "plt.rcParams.update({'font.size': 12})\n",
    "if 1==1:\n",
    "    buildf_lbda = lambda L: lambda w: np.where(w>L, w-L, \n",
    "                                               np.where( w<-L, w+L, 0))\n",
    "    lbda = (0 , 1, 2 , 4)\n",
    "    w=np.linspace(-10,10,41)\n",
    "    plt.figure(figsize=(16,3.5))\n",
    "    for i in range(4):\n",
    "        plt.subplot(141 + i)\n",
    "        plt.plot([-10, 10], [0, 0],'r',linewidth=.5, label='axes')\n",
    "        plt.plot([0, 0], [-10, 10],'r',linewidth=.5)\n",
    "        plt.plot(w, buildf_lbda(lbda[i])(w))\n",
    "        plt.title(f\"case $\\lambda=$\" + str(lbda[i]))\n",
    "        plt.legend()"
   ]
  },
  {
   "cell_type": "markdown",
   "metadata": {},
   "source": [
    "<a id='I2'></a>\n",
    "<h2>I.2. Un cas dégénéré</h2>"
   ]
  },
  {
   "cell_type": "markdown",
   "metadata": {},
   "source": [
    "<a href=\"#toc\">top</a>\n",
    "&nbsp;&nbsp;&nbsp;&nbsp;&nbsp;&nbsp;&nbsp;&nbsp;&nbsp;&nbsp;&nbsp;&nbsp;&nbsp;&nbsp;\n",
    "&nbsp;&nbsp;&nbsp;&nbsp;&nbsp;\n",
    "<a href=\"#I\">I.</a>\n",
    "&nbsp;&nbsp;&nbsp;&nbsp;&nbsp;&nbsp;&nbsp;&nbsp;\n",
    "<a href=\"#I1\">I.1</a>\n",
    "&nbsp;&nbsp;&nbsp;&nbsp;&nbsp;&nbsp;&nbsp;&nbsp;\n",
    "<a href=\"#I2\">I.2</a>\n",
    "&nbsp;&nbsp;&nbsp;&nbsp;&nbsp;&nbsp;&nbsp;&nbsp;\n",
    "<a href=\"#I3\">I.3</a>\n",
    "&nbsp;&nbsp;&nbsp;&nbsp;&nbsp;&nbsp;&nbsp;&nbsp;&nbsp;&nbsp;&nbsp;&nbsp;&nbsp;&nbsp;\n",
    "&nbsp;&nbsp;&nbsp;&nbsp;&nbsp;\n",
    "<a href=\"#II\">II.</a>\n",
    "&nbsp;&nbsp;&nbsp;&nbsp;&nbsp;&nbsp;&nbsp;&nbsp;\n",
    "<a href=\"#II1\">II.1</a>\n",
    "&nbsp;&nbsp;&nbsp;&nbsp;&nbsp;&nbsp;&nbsp;&nbsp;\n",
    "<a href=\"#II2\">II.2</a>\n",
    "&nbsp;&nbsp;&nbsp;&nbsp;&nbsp;&nbsp;&nbsp;&nbsp;&nbsp;&nbsp;&nbsp;&nbsp;&nbsp;&nbsp;\n",
    "&nbsp;&nbsp;&nbsp;&nbsp;&nbsp;\n",
    "<a href=\"#III\">III.</a>\n",
    "&nbsp;&nbsp;&nbsp;&nbsp;&nbsp;&nbsp;&nbsp;&nbsp;&nbsp;&nbsp;&nbsp;&nbsp;&nbsp;&nbsp;\n",
    "&nbsp;&nbsp;&nbsp;&nbsp;&nbsp;\n",
    "<a href=\"#bot\">bot.</a>"
   ]
  },
  {
   "cell_type": "markdown",
   "metadata": {},
   "source": [
    "On considère ici, $N=2$ et \n",
    "$$\n",
    "F(w):=\\dfrac12(2w_0 + w_1 - 1)^2.\n",
    "$$"
   ]
  },
  {
   "cell_type": "markdown",
   "metadata": {},
   "source": [
    "**Exercice 1**\n",
    "\n",
    "a) La fonction $F$ est-elle convexe ? fortement convexe ? coercive?\n",
    "\n",
    "b) Trouvez les minimiseurs dans $\\mathbb{R}^2$ de $F$.\n",
    "\n",
    "c) Soit $\\lambda>0$. Trouvez les minimiseurs de\n",
    "\n",
    "$$\n",
    "F_\\lambda(w)=F(w)+\\lambda\\|w\\|_1:= \\dfrac12(2w_0 + w_1 - 1)^2 +\\lambda (|w_0| +|w_1|).\n",
    "$$\n",
    "\n",
    "*__Indication :__ justifier que si la compososante $w^*_j$ d'un point de minimum $w^*$ est non nulle alors $\\dfrac {\\partial F_\\lambda(w^*)}{\\partial w_j}$ est bien défini et nul.*\n",
    "\n",
    "d) Interprétez le résultat de (c) : quels sont les effets du terme régularisant $\\lambda \\|w\\|_1$ ?"
   ]
  },
  {
   "cell_type": "markdown",
   "metadata": {},
   "source": [
    "<div class=\"alert alert-block alert-info\" style=\"margin-top : 0px\">\n",
    "    \n",
    "___Solution 1.a.___\n",
    "\n",
    "</div>"
   ]
  },
  {
   "cell_type": "markdown",
   "metadata": {},
   "source": [
    "Pour étudier la convexité de $F$, il convient de remarquer que $F$ est $\\mathbf{C}^2$. On a :\n",
    "\n",
    "$\\nabla F(w) = \\binom{2(2w_0+w_1-1)}{2w_0+w_1-1}$ et $H(w) = \\begin{bmatrix}\n",
    "4 & 2\\\\\n",
    "2 & 1\n",
    "\\end{bmatrix}$\n",
    "\n",
    "En particulier, $det(H) = 4-2x2 = 0$ donc la matrice est symétrique semi-définie positive mais non définie positive. Donc F est convexe mais pas fortement convexe.\n",
    "\n",
    "De plus, soit $w_0 = 0$ alors $F(w) = \\frac 12 (w_1-1)$ qui tend vers $-\\infty$ quand $||w||$ tend vers $-\\infty$ et qui tend vers $+\\infty$ quand $||w||$ tend vers $+\\infty$. Donc, il n'existe pas de minimum global et on en conclut que f n'est pas coercive."
   ]
  },
  {
   "cell_type": "markdown",
   "metadata": {},
   "source": [
    "<div class=\"alert alert-block alert-info\" style=\"margin-top : 0px\">\n",
    "    \n",
    "___Solution 1.b.___\n",
    "\n",
    "</div>"
   ]
  },
  {
   "cell_type": "markdown",
   "metadata": {},
   "source": [
    "Comme F est convexe, elle admet un minimiseur $w^*$ qui vérifie :\n",
    "\n",
    "$\\nabla F(w^*) = 0$\n",
    "\n",
    "Donc :\n",
    "\n",
    "$\\binom{2(2w_0^*+w_1^*-1)}{2w_0^*+w_1^*-1} = \\binom{0}{0}$\n",
    "\n",
    "D'où : \n",
    "\n",
    "$2w_0^*+w_1^*-1 = 0$\n",
    "\n",
    "En conclusion, l'ensemble des minimiseurs de F sont les points de l'ensemble $\\{w : 2w_0+w_1-1 = 0\\}$. Ce sont les points d'une droite."
   ]
  },
  {
   "cell_type": "markdown",
   "metadata": {},
   "source": [
    "<div class=\"alert alert-block alert-info\" style=\"margin-top : 0px\">\n",
    "    \n",
    "___Solution 1.c.___\n",
    "\n",
    "</div>"
   ]
  },
  {
   "cell_type": "markdown",
   "metadata": {},
   "source": [
    "Comme F est strictement convexe et $w\\mapsto {|w_0|+|w_1|}$ est convexe, alors $F_\\lambda$ elle admet un minimiseur $w^*$. On remarque que pour $\\lambda > 0$, $F_\\lambda$ n'est pas dérivable en $w_0 = 0$ et en $w_1 = 0$. Cependant, elle est dérivable en tout point $w_0\\neq0$ et $w_1\\neq0$ si $w_0^*\\neq 0$ et $w_1^*\\neq 0$, on a :\n",
    "\n",
    "$\\nabla F_\\lambda(w^*) = 0$\n",
    "\n",
    "Cela est équivalent à :\n",
    "\n",
    "$$ \\dfrac {\\partial F_\\lambda(w)}{\\partial w_0} =\\begin{cases} 2(2w_0 + w_1 - 1 ) + \\lambda& \\text{si }  w_0>0,\\\\\n",
    "2(2w_0 + w_1 - 1 ) - \\lambda & \\text{si } w_0<0. \\end{cases} = 0$$ \n",
    "$$ \\dfrac {\\partial F_\\lambda(w)}{\\partial w_1} =\\begin{cases} 2w_0 + w_1 - 1  + \\lambda& \\text{si }  w_1>0,\\\\\n",
    "2w_0 + w_1 - 1 - \\lambda & \\text{si } w_1<0. \\end{cases} = 0$$\n",
    "\n",
    "\n",
    "Distinguons les cas :\n",
    "\n",
    "Pour $w_0 = 0$, on a $F(w) = (w_1-1)^2 +\\lambda|w_1|$ donc \n",
    "$$\\dfrac {\\partial F_\\lambda(w)}{\\partial w_1} =\\begin{cases}  w_1 - 1  + \\lambda& \\text{si }  w_1>0,\\\\\n",
    " w_1 - 1 - \\lambda & \\text{si } w_1<0. \\end{cases} = 0$$\n",
    " \n",
    "Cela équivaut à : \n",
    "$$\\begin{cases}  w_1 = 1  - \\lambda& \\text{si }  w_1>0,\\\\\n",
    " w_1 = 1 + \\lambda & \\text{si } w_1<0. \\end{cases}$$\n",
    "\n",
    "Pour $w_1 = 0$, on a $F(w) = (2w_0-1)^2 +\\lambda|w_0|$ donc \n",
    "$$\\dfrac {\\partial F_\\lambda(w)}{\\partial w_0} =\\begin{cases}  2(2w_0 - 1)  + \\lambda& \\text{si }  w_0>0,\\\\\n",
    " 2(2w_0 - 1) - \\lambda & \\text{si } w_0<0. \\end{cases} = 0$$\n",
    " \n",
    "Cela équivaut à : \n",
    "$$\\begin{cases}  w_0 = \\dfrac 12  - \\dfrac {\\lambda}{4}& \\text{si }  w_0>0,\\\\\n",
    " w_0 = \\dfrac 12  + \\dfrac {\\lambda}{4} & \\text{si } w_0<0. \\end{cases}$$\n",
    "\n",
    "En résumé :\n",
    "\n",
    "$$w^* = \\begin{cases} (0,0) \\\\\n",
    " (0,1-\\lambda) \\text{ si } 0<\\lambda<1.\\\\\n",
    " (\\dfrac{1}{2}-\\dfrac{\\lambda}{4},0) \\text{ si } 2<\\lambda\\end{cases}$$"
   ]
  },
  {
   "cell_type": "markdown",
   "metadata": {},
   "source": [
    "<div class=\"alert alert-block alert-info\" style=\"margin-top : 0px\">\n",
    "    \n",
    "___Solution 1.d.___\n",
    "\n",
    "</div>"
   ]
  },
  {
   "cell_type": "markdown",
   "metadata": {},
   "source": [
    "Sans la régularisation, l'ensemble des minimiseurs était un ensemble de points sur une droite, donc un nombre inifini. Avec la régularisation, on réduit ce nombre de possibilités à un nombre fini d'éléments. "
   ]
  },
  {
   "cell_type": "markdown",
   "metadata": {},
   "source": [
    "<a id='I3'></a>\n",
    "<h2>I.3. Un exemple en plus grande dimension</h2>"
   ]
  },
  {
   "cell_type": "markdown",
   "metadata": {},
   "source": [
    "<a href=\"#toc\">top</a>\n",
    "&nbsp;&nbsp;&nbsp;&nbsp;&nbsp;&nbsp;&nbsp;&nbsp;&nbsp;&nbsp;&nbsp;&nbsp;&nbsp;&nbsp;\n",
    "&nbsp;&nbsp;&nbsp;&nbsp;&nbsp;\n",
    "<a href=\"#I\">I.</a>\n",
    "&nbsp;&nbsp;&nbsp;&nbsp;&nbsp;&nbsp;&nbsp;&nbsp;\n",
    "<a href=\"#I1\">I.1</a>\n",
    "&nbsp;&nbsp;&nbsp;&nbsp;&nbsp;&nbsp;&nbsp;&nbsp;\n",
    "<a href=\"#I2\">I.2</a>\n",
    "&nbsp;&nbsp;&nbsp;&nbsp;&nbsp;&nbsp;&nbsp;&nbsp;\n",
    "<a href=\"#I3\">I.3</a>\n",
    "&nbsp;&nbsp;&nbsp;&nbsp;&nbsp;&nbsp;&nbsp;&nbsp;&nbsp;&nbsp;&nbsp;&nbsp;&nbsp;&nbsp;\n",
    "&nbsp;&nbsp;&nbsp;&nbsp;&nbsp;\n",
    "<a href=\"#II\">II.</a>\n",
    "&nbsp;&nbsp;&nbsp;&nbsp;&nbsp;&nbsp;&nbsp;&nbsp;\n",
    "<a href=\"#II1\">II.1</a>\n",
    "&nbsp;&nbsp;&nbsp;&nbsp;&nbsp;&nbsp;&nbsp;&nbsp;\n",
    "<a href=\"#II2\">II.2</a>\n",
    "&nbsp;&nbsp;&nbsp;&nbsp;&nbsp;&nbsp;&nbsp;&nbsp;&nbsp;&nbsp;&nbsp;&nbsp;&nbsp;&nbsp;\n",
    "&nbsp;&nbsp;&nbsp;&nbsp;&nbsp;\n",
    "<a href=\"#III\">III.</a>\n",
    "&nbsp;&nbsp;&nbsp;&nbsp;&nbsp;&nbsp;&nbsp;&nbsp;&nbsp;&nbsp;&nbsp;&nbsp;&nbsp;&nbsp;\n",
    "&nbsp;&nbsp;&nbsp;&nbsp;&nbsp;\n",
    "<a href=\"#bot\">bot.</a>"
   ]
  },
  {
   "cell_type": "markdown",
   "metadata": {},
   "source": [
    "Considérons maintenant une fonction quadratique non dégénérée comme en **I.1** mais en dimension supérieure $N\\geq 1$. Nous fixons $\\bar w\\in \\mathbb{R}^N$ et une suite de nombres $a_0,a_1,\\dots,a_{N-1}>0$ et nous posons pour $w\\in\\mathbb{ R}^N$,\n",
    "\n",
    "$$\\tag{1}\n",
    "F(w):=\\dfrac12\\sum_{j=0}^{N-1} a_j (w_j-\\bar w_j)^2\\qquad\\qquad\\qquad\\qquad\\qquad\\qquad\\qquad\\qquad\n",
    "\\qquad\\qquad=\\dfrac{a_0}2(w_0-\\bar w_0)^2 + \\dfrac{a_1}2(w_1-\\bar w_1)^2+\\dots + \\dfrac{a_{N-1}} 2(w_{N-1}-\\bar w_{N-1})^2.\n",
    "$$"
   ]
  },
  {
   "cell_type": "markdown",
   "metadata": {},
   "source": [
    "Comme dans la partie <a href=\"#I1\">I.1.</a> la fonction $\\,F\\,$ est fortement convexe : elle est $\\gamma$-convexe pour\n",
    "$$\\gamma=\\min\\{a_j,j=0,\\dots,N-1\\}\\, >0.$$\n",
    "On note $\\,\\bar w\\,$ l'unique minimiseur de $\\,F$."
   ]
  },
  {
   "cell_type": "markdown",
   "metadata": {},
   "source": [
    "Fixons $\\lambda>0$ et fixons comme plus haut, $F_\\lambda(w):=F(w)+\\lambda \\|w\\|_1$. La fonction $F_\\lambda$ est à nouveau fortement convexe, on note son unique minimiseur $w^*$. \n",
    "\n",
    "À quelle distance de $w^*$ se trouve $\\bar w$ ? À quel point est-il plus parcimonieux que $\\bar w$ ? Pour le savoir nous allons déterminer explicitement $w^*$."
   ]
  },
  {
   "cell_type": "markdown",
   "metadata": {},
   "source": [
    "Remarquons tout d'abord que $F_\\lambda$ se divise en $N$ fonctions d'un seul paramètre :\n",
    "\n",
    "$$\n",
    "F_\\lambda(w)=\\sum_{j=0}^{N-1} F^{(j)}_\\lambda (w_j)\\qquad\n",
    "\\text{with}\\quad F^{(j)}_\\lambda (w_j)=\\dfrac{a_j}2(w_j-\\bar w_j)^2 + \\lambda |w_j|\n",
    "= a_j\\left\\{\\dfrac12(w_j-\\bar w_j)^2 + \\dfrac{\\lambda}{a_j} |w_j|\\right\\}.\n",
    "$$"
   ]
  },
  {
   "cell_type": "markdown",
   "metadata": {},
   "source": [
    "Puisque les paramètres des fonctions $F_\\lambda^{(j)}$ sont indépendants les uns des autres, nous pouvons optimiser séparément les $F_\\lambda^{(j)}$. L'expression entre accolades est de la forme $f_{\\lambda/a_j}(w_j)$ étudiée en <a href=\"#I1\">I.1.</a>. Nous en déduisons que\n",
    "\n",
    "$$\\tag{2}\n",
    "\\text{Pour }j=0,\\dots,N-1,\\ \\quad w^*_j=\\begin{cases}\\bar w_j-\\dfrac\\lambda{a_j}\\ \\text{signe}\\, \\bar w_j &\\text{si } |a_j\\bar w_j|>\\lambda,\\\\\n",
    "\\qquad 0 &\\text{si } |a_j\\bar w_j|\\leq \\lambda. \\end{cases}\n",
    "$$\n",
    "\n",
    "Notez que $|a_j\\bar w_j|= \\left| \\dfrac{\\partial F}{\\partial w_j}(0)\\right|$ mesure la sensibilité de $F$ par rapport aux variations de la $j$-ième variable ."
   ]
  },
  {
   "cell_type": "markdown",
   "metadata": {},
   "source": [
    "Nous pouvons interpréter la formule ci-dessus comme suit :\n",
    "\n",
    "$\\quad\\ $a) si cette sensibilité est suffisamment petite, _c'est-à-dire_ $\\ \\left| \\dfrac{\\partial F}{\\partial w_j}(0)\\right|\\leq \\lambda\\ $ alors $w^*_j$ vaut 0. On a alors\n",
    "$$\n",
    "\\tag{3a}\n",
    "|a_j(w^*_j - \\bar w_j)| \\leq\\lambda.\n",
    "$$\n",
    "\n",
    "\n",
    "$\\quad\\ $b) pour des sensibilités plus grandes $\\ \\left| \\dfrac{\\partial F}{\\partial w_j}(0)\\right| > \\lambda\\ $, $w^*_j$ est une approximation de $\\bar w_j$, avec\n",
    "$$\n",
    "\\tag{3b}\n",
    "|a_j(w^*_j - \\bar w_j)| =\\lambda.\n",
    "$$"
   ]
  },
  {
   "cell_type": "markdown",
   "metadata": {},
   "source": [
    "**Remarque :** En réinterprétant (3a) et (3b) en fonction des composantes de $\\nabla F$, on voit que pour chaque $j$\n",
    "$$\n",
    "\\left|\\dfrac{\\partial F(w^*)}{\\partial w_j} \\right|\\leq\\lambda.\n",
    "$$\n",
    "Plus précisément, si on fixe tous les $\\,w_k^*\\,$ pour $k\\,\\neq j\\,$,\n",
    "\n",
    "$$\\tag{4}\n",
    "\\text{le terme est $\\,w_j^*\\,$ minimise $\\,|w_j|\\,$ dans l'ensemble }\\\\\n",
    "\\left\\{w_j\\in\\mathbb{R}\\ :\\ \\left|\\dfrac{\\partial F}{\\partial w_j}\\right|(w^*_0,\\dots,w^*_{j-1 },w_j,w^*_{j+1},\\dots, w^*_{N-1})\\leq\\lambda\\right\\}.\n",
    "$$\n",
    "\n",
    "Ceci est également vrai pour toute fonction convexe $F$ de classe $C^1$, pas seulement pour les fonctions quadratiques."
   ]
  },
  {
   "cell_type": "markdown",
   "metadata": {},
   "source": [
    "Nous voyons que si nous choisissons $\\lambda$ petit, $w^*$ sera une petite perturbation du minimiseur exact de $F$. De plus, si mettre $w^*_j$ à 0 ne crée qu'un gradient négligeable (inférieur à $\\lambda$) alors $w^*_j$ vaut 0. En ce sens, la régularisation favorise la *parcimonie* de $w^*$."
   ]
  },
  {
   "cell_type": "markdown",
   "metadata": {},
   "source": [
    "# II. Optimisation numérique de $F_\\lambda$ par ISTA<a id='II'></a> "
   ]
  },
  {
   "cell_type": "markdown",
   "metadata": {},
   "source": [
    "<a href=\"#toc\">top</a>\n",
    "&nbsp;&nbsp;&nbsp;&nbsp;&nbsp;&nbsp;&nbsp;&nbsp;&nbsp;&nbsp;&nbsp;&nbsp;&nbsp;&nbsp;\n",
    "&nbsp;&nbsp;&nbsp;&nbsp;&nbsp;\n",
    "<a href=\"#I\">I.</a>\n",
    "&nbsp;&nbsp;&nbsp;&nbsp;&nbsp;&nbsp;&nbsp;&nbsp;\n",
    "<a href=\"#I1\">I.1</a>\n",
    "&nbsp;&nbsp;&nbsp;&nbsp;&nbsp;&nbsp;&nbsp;&nbsp;\n",
    "<a href=\"#I2\">I.2</a>\n",
    "&nbsp;&nbsp;&nbsp;&nbsp;&nbsp;&nbsp;&nbsp;&nbsp;\n",
    "<a href=\"#I3\">I.3</a>\n",
    "&nbsp;&nbsp;&nbsp;&nbsp;&nbsp;&nbsp;&nbsp;&nbsp;&nbsp;&nbsp;&nbsp;&nbsp;&nbsp;&nbsp;\n",
    "&nbsp;&nbsp;&nbsp;&nbsp;&nbsp;\n",
    "<a href=\"#II\">II.</a>\n",
    "&nbsp;&nbsp;&nbsp;&nbsp;&nbsp;&nbsp;&nbsp;&nbsp;\n",
    "<a href=\"#II1\">II.1</a>\n",
    "&nbsp;&nbsp;&nbsp;&nbsp;&nbsp;&nbsp;&nbsp;&nbsp;\n",
    "<a href=\"#II2\">II.2</a>\n",
    "&nbsp;&nbsp;&nbsp;&nbsp;&nbsp;&nbsp;&nbsp;&nbsp;&nbsp;&nbsp;&nbsp;&nbsp;&nbsp;&nbsp;\n",
    "&nbsp;&nbsp;&nbsp;&nbsp;&nbsp;\n",
    "<a href=\"#III\">III.</a>\n",
    "&nbsp;&nbsp;&nbsp;&nbsp;&nbsp;&nbsp;&nbsp;&nbsp;&nbsp;&nbsp;&nbsp;&nbsp;&nbsp;&nbsp;\n",
    "&nbsp;&nbsp;&nbsp;&nbsp;&nbsp;\n",
    "<a href=\"#bot\">bot.</a>"
   ]
  },
  {
   "cell_type": "markdown",
   "metadata": {},
   "source": [
    "__(__ ***''ISTA'' signifie ``Iterative Shrinkage-Thresholding Algorithm''*** __)__"
   ]
  },
  {
   "cell_type": "markdown",
   "metadata": {},
   "source": [
    "Nous voulons optimiser une fonction convexe régulière $F:\\mathbb{R}^N\\to \\mathbb{R}$ avec un terme de régularisation $\\lambda \\|w\\|_1$ où le paramètre $\\lambda\\geq 0$ est donné."
   ]
  },
  {
   "cell_type": "markdown",
   "metadata": {},
   "source": [
    "<a id='II1'></a>\n",
    "<h2>II.1. Réinterpretation de la méthode du gradient à pas fixe</h2>"
   ]
  },
  {
   "cell_type": "markdown",
   "metadata": {},
   "source": [
    "<a href=\"#toc\">top</a>\n",
    "&nbsp;&nbsp;&nbsp;&nbsp;&nbsp;&nbsp;&nbsp;&nbsp;&nbsp;&nbsp;&nbsp;&nbsp;&nbsp;&nbsp;\n",
    "&nbsp;&nbsp;&nbsp;&nbsp;&nbsp;\n",
    "<a href=\"#I\">I.</a>\n",
    "&nbsp;&nbsp;&nbsp;&nbsp;&nbsp;&nbsp;&nbsp;&nbsp;\n",
    "<a href=\"#I1\">I.1</a>\n",
    "&nbsp;&nbsp;&nbsp;&nbsp;&nbsp;&nbsp;&nbsp;&nbsp;\n",
    "<a href=\"#I2\">I.2</a>\n",
    "&nbsp;&nbsp;&nbsp;&nbsp;&nbsp;&nbsp;&nbsp;&nbsp;\n",
    "<a href=\"#I3\">I.3</a>\n",
    "&nbsp;&nbsp;&nbsp;&nbsp;&nbsp;&nbsp;&nbsp;&nbsp;&nbsp;&nbsp;&nbsp;&nbsp;&nbsp;&nbsp;\n",
    "&nbsp;&nbsp;&nbsp;&nbsp;&nbsp;\n",
    "<a href=\"#II\">II.</a>\n",
    "&nbsp;&nbsp;&nbsp;&nbsp;&nbsp;&nbsp;&nbsp;&nbsp;\n",
    "<a href=\"#II1\">II.1</a>\n",
    "&nbsp;&nbsp;&nbsp;&nbsp;&nbsp;&nbsp;&nbsp;&nbsp;\n",
    "<a href=\"#II2\">II.2</a>\n",
    "&nbsp;&nbsp;&nbsp;&nbsp;&nbsp;&nbsp;&nbsp;&nbsp;&nbsp;&nbsp;&nbsp;&nbsp;&nbsp;&nbsp;\n",
    "&nbsp;&nbsp;&nbsp;&nbsp;&nbsp;\n",
    "<a href=\"#III\">III.</a>\n",
    "&nbsp;&nbsp;&nbsp;&nbsp;&nbsp;&nbsp;&nbsp;&nbsp;&nbsp;&nbsp;&nbsp;&nbsp;&nbsp;&nbsp;\n",
    "&nbsp;&nbsp;&nbsp;&nbsp;&nbsp;\n",
    "<a href=\"#bot\">bot.</a>"
   ]
  },
  {
   "cell_type": "markdown",
   "metadata": {},
   "source": [
    "Supposons d'abord $\\,\\lambda =0$. Dans ce cas $\\,F_\\lambda=F\\,$ est régulière et nous pouvons utiliser la méthode de gradient avec pas fixe $\\,\\alpha>0$. Nous commençons par réinterpréter cette méthode comme une succession de résolutions de problèmes d'optimisation. Nous commençons par un vecteur initial $\\,w^0\\in\\mathbb{R}^N\\,$ et nous construisons récusivement la suite $w^0$, $w^1$,$w^2$, $\\ points$, avec les règles suivantes :\n",
    "\n",
    "$\\qquad$a) A l'étape $\\,k$, connaissant l'itération courante $\\,w^k$, on définit la fonction\n",
    "\n",
    "$$\\tag{5}\n",
    "\\Phi^k(w):=F(w^k) +\\left<\\nabla F(w^k);w-w^k\\right> + \\dfrac1{2\\alpha}\\|w-w^k\\|^ 2\n",
    "$$"
   ]
  },
  {
   "cell_type": "markdown",
   "metadata": {},
   "source": [
    "Pour construire la fonction $\\,\\Phi^k\\,$ nous sommes parti du développement de Taylor au premier ordre de $F$ et nous avons ajouté le terme quadratique $\\,\\|w-w^k\\|^2/(2\\alpha)$.  $\\Phi^k$ est donc une approximation (au premier ordre) de $\\,F\\,$ près de $\\,w^k\\,$ et est une fonction quadratique définie positive.\n",
    "En particulier, il admet un minimiseur unique.\n",
    "\n",
    "$\\qquad$b) $w^{k+1}\\,$ est défini comme le minimiseur de $\\,\\Phi^k$.\n",
    "\n",
    "Il est facile de déterminer le minimiseur de la fonction quadratique $\\Phi^k$. Nous trouvons\n",
    "\n",
    "$$\n",
    "\\tag{6}\n",
    "w^{k+1} = w^k - \\alpha \\nabla F(w^k)\n",
    "$$\n",
    "\n",
    "Comme annoncé, nous retrouvons la formule donnant $\\,w^{k+1}\\,$ en fonction de $w^k$ pour la méthode de descente de gradient de pas $\\alpha$."
   ]
  },
  {
   "cell_type": "markdown",
   "metadata": {},
   "source": [
    "**Exercice 2** Justifier la formule (6)."
   ]
  },
  {
   "cell_type": "markdown",
   "metadata": {},
   "source": [
    "<div class=\"alert alert-block alert-info\" style=\"margin-top: 0px\">\n",
    "    \n",
    "___Solution 2.___ \n",
    "    \n",
    "</div>"
   ]
  },
  {
   "cell_type": "markdown",
   "metadata": {},
   "source": [
    "Par définition de $w^{k+1}$, on a que : \n",
    "\n",
    "$\\nabla \\Phi^k(w^{k+1}) = 0$\n",
    "\n",
    "Cela signifie que $w^{k+1}$ vérifie :\n",
    "\n",
    "$\\nabla F(w^k) \\dfrac{1}{\\alpha}(w^{k+1}-w^k) = 0$\n",
    "\n",
    "D'où, $w^{k+1} = w^k - \\alpha\\nabla F(w^k)$"
   ]
  },
  {
   "cell_type": "markdown",
   "metadata": {},
   "source": [
    "<a id='II2'></a>\n",
    "<h2>II.2. ISTA</h2>"
   ]
  },
  {
   "cell_type": "markdown",
   "metadata": {},
   "source": [
    "<a href=\"#toc\">top</a>\n",
    "&nbsp;&nbsp;&nbsp;&nbsp;&nbsp;&nbsp;&nbsp;&nbsp;&nbsp;&nbsp;&nbsp;&nbsp;&nbsp;&nbsp;\n",
    "&nbsp;&nbsp;&nbsp;&nbsp;&nbsp;\n",
    "<a href=\"#I\">I.</a>\n",
    "&nbsp;&nbsp;&nbsp;&nbsp;&nbsp;&nbsp;&nbsp;&nbsp;\n",
    "<a href=\"#I1\">I.1</a>\n",
    "&nbsp;&nbsp;&nbsp;&nbsp;&nbsp;&nbsp;&nbsp;&nbsp;\n",
    "<a href=\"#I2\">I.2</a>\n",
    "&nbsp;&nbsp;&nbsp;&nbsp;&nbsp;&nbsp;&nbsp;&nbsp;\n",
    "<a href=\"#I3\">I.3</a>\n",
    "&nbsp;&nbsp;&nbsp;&nbsp;&nbsp;&nbsp;&nbsp;&nbsp;&nbsp;&nbsp;&nbsp;&nbsp;&nbsp;&nbsp;\n",
    "&nbsp;&nbsp;&nbsp;&nbsp;&nbsp;\n",
    "<a href=\"#II\">II.</a>\n",
    "&nbsp;&nbsp;&nbsp;&nbsp;&nbsp;&nbsp;&nbsp;&nbsp;\n",
    "<a href=\"#II1\">II.1</a>\n",
    "&nbsp;&nbsp;&nbsp;&nbsp;&nbsp;&nbsp;&nbsp;&nbsp;\n",
    "<a href=\"#II2\">II.2</a>\n",
    "&nbsp;&nbsp;&nbsp;&nbsp;&nbsp;&nbsp;&nbsp;&nbsp;&nbsp;&nbsp;&nbsp;&nbsp;&nbsp;&nbsp;\n",
    "&nbsp;&nbsp;&nbsp;&nbsp;&nbsp;\n",
    "<a href=\"#III\">III.</a>\n",
    "&nbsp;&nbsp;&nbsp;&nbsp;&nbsp;&nbsp;&nbsp;&nbsp;&nbsp;&nbsp;&nbsp;&nbsp;&nbsp;&nbsp;\n",
    "&nbsp;&nbsp;&nbsp;&nbsp;&nbsp;\n",
    "<a href=\"#bot\">bot.</a>"
   ]
  },
  {
   "cell_type": "markdown",
   "metadata": {},
   "source": [
    "Nous supposons maintenant $\\lambda>0$ de sorte qu'on a un terme de régularisation $\\ell^1$. Pour optimiser $F_\\lambda$, nous partons toujours d'une estimation initiale $w^0$ et construisons récursivement une suite $w^0$, $w^1$, $w^2$, $\\dots$ où à l'étape $k,\\,$ $w^{k+1}$ est défini comme le minimiseur de\n",
    "\n",
    "$$\\tag{7}\n",
    "\\Phi_\\lambda^k(w):= \\Phi^k(w)+\\lambda \\|w\\|_1.\n",
    "$$\n",
    "\n",
    "Notez que nous **ne remplaçons pas** le terme de pénalisation par son développement de Taylor au voisinage de $w^k$.\n",
    "\n",
    "En rappelant la définition de $\\ \\Phi^k,\\ $ nous avons\n",
    "$$\\tag{8}\n",
    "\\Phi_\\lambda^k(w)=F(w^k) +\\left<\\nabla F(w^k);w-w^k\\right> + \\dfrac1{2\\alpha}\\|w-w^k\\| ^2 +\\lambda\\|w\\|_1.\n",
    "$$"
   ]
  },
  {
   "cell_type": "markdown",
   "metadata": {},
   "source": [
    "Pouvons-nous trouver une formule explicite pour $w^{k+1}$ ? Oui! En fait, nous sommes dans la situation de **I.2.** Notons $\\,\\bar w^k\\,$ le minimiseur de $\\,\\Phi^k$. Par (6) nous avons\n",
    "\n",
    "$$\\tag{9}\\bar w^k=w^k-\\alpha\\nabla F(w^k)$$\n",
    "\n",
    "et la fonction $\\Phi^k$ se réécrit comme\n",
    "$$\\tag{10}\n",
    "\\Phi^k(w) = c_k + \\dfrac1{2\\alpha} \\|w - \\bar w^k\\|_2^2.\n",
    "$$"
   ]
  },
  {
   "cell_type": "markdown",
   "metadata": {},
   "source": [
    "**Exercice 3** Justifier la formule (10)."
   ]
  },
  {
   "cell_type": "markdown",
   "metadata": {},
   "source": [
    "<div class=\"alert alert-block alert-info\" style=\"margin-top: 0px\">\n",
    "    \n",
    "___Solution 3.___\n",
    "\n",
    "</div>"
   ]
  },
  {
   "cell_type": "markdown",
   "metadata": {},
   "source": [
    "On sait que $||w - \\bar w^k||_2^2 = ||(w-w^k) + \\alpha \\nabla F(w^k)||_2^2$ = $||(w-w^k)||_2^2 + ||\\alpha \\nabla F(w^k)||_2^2 + 2<\\alpha \\nabla F(w^k);w-w^k>$\n",
    "\n",
    "Donc : $\\dfrac {1}{2\\alpha}<\\nabla F(w^k);w-w^k> = \\dfrac {1}{2\\alpha}||w - \\bar w^k||_2^2 - \\dfrac {1}{2\\alpha}||(w-w^k)||_2^2 - \\dfrac {\\alpha}{2}||\\nabla F(w^k)||_2^2$\n",
    "\n",
    "Ainsi :\n",
    "\n",
    "$\\Phi^k(w) = F(w^k) + \\dfrac {1}{2\\alpha}||w - \\bar w^k||_2^2 - \\dfrac {1}{2\\alpha}||(w-w^k)||_2^2 - \\dfrac {\\alpha}{2}||\\nabla F(w^k)||_2^2 + \\dfrac {1}{2 \\alpha}||(w-w^k)||_2^2$\n",
    "\n",
    "$\\Phi^k(w) = F(w^k) + \\dfrac {1}{2\\alpha}||w - \\bar w^k||_2^2 - \\dfrac {\\alpha}{2}||\\nabla F(w^k)||_2^2$\n",
    "\n",
    "On a donc bien (10) avec $c_k = F(w^k) - \\dfrac {\\alpha}{2}||\\nabla F(w^k)||_2^2$"
   ]
  },
  {
   "cell_type": "markdown",
   "metadata": {},
   "source": [
    "En tenant compte de (7) et (10) on voit que $w^{k+1}$ est le minimiseur de\n",
    "$$\n",
    "G(w):=\\dfrac1{2\\alpha} \\|w - \\bar w_k\\|_2^2 + \\lambda \\|w\\|_1.\n",
    "$$\n",
    "Cette fonction est de la forme (1) dans la partie **I.2.** avec $a_0=a_1=\\dots=a_{N-1}=1/\\alpha$. Ainsi, en utilisant la formule (2), nous avons\n",
    "\n",
    "$$\\tag{11}\n",
    "\\text{pour }j=0,\\dots,N-1,\\ \\ w^{k+1}_j=\n",
    "\\begin{cases} \\bar{w}^k_j - \\lambda\\alpha\\ \\text{sign}\\, \\bar w^k_j &\n",
    "\\text{si } |\\bar{w}^k_j| > \\lambda\\alpha ,\\\\\n",
    "\\qquad 0 &\n",
    "\\text{si } |\\bar{w}^k_j| \\leq \\lambda\\alpha. \\end{cases}\\qquad\n",
    "$$"
   ]
  },
  {
   "cell_type": "markdown",
   "metadata": {},
   "source": [
    "**Résumé.** Nous déduisons de (9) et (11) une formule explicite pour $w^{k+1}$. Après l'initialisation, ISTA s'exécute comme suit : pour $k=0,1,\\dots$ calculer\n",
    "$$\\tag{12}\n",
    "\\begin{array}{rl} \\bar{w}^k :=&w^k-\\alpha\\nabla F(w^k), \\\\ \\\\\n",
    "\\text{pour }j=0,\\dots,N-1,\\quad \\ w^{k+1}_j:=&\n",
    "\\begin{cases} \\bar{w}^k_j - \\lambda\\alpha\\ \\text{sign}\\, \\bar w^k_j &\n",
    "\\text{si } |\\bar{w}^k_j| > \\lambda\\alpha ,\\\\\n",
    "\\qquad 0 &\n",
    "\\text{si } |\\bar{w}^k_j| \\leq \\lambda\\alpha. \\end{cases}\n",
    "\\end{array}\n",
    "$$"
   ]
  },
  {
   "cell_type": "markdown",
   "metadata": {},
   "source": [
    "**Exercice 4** Nous souhaitons tester cet algorithme avec\n",
    "$$\n",
    "F(w):=\\sum_{j=0}^{N-1} \\sin^2(\\pi (w_j - w^*_j)),\n",
    "$$\n",
    "où la suite $w^*_0,\\dots,w^*_{N-1}$ est donnée.<br>\n",
    "Justifiez la formule pour $\\nabla F$ donnée ci-dessous dans la définition de la fonction python  _buildGradF_.\n"
   ]
  },
  {
   "cell_type": "markdown",
   "metadata": {},
   "source": [
    "<div class=\"alert alert-block alert-info\" style=\"margin-top: 0px\">\n",
    "    \n",
    "    \n",
    "___Solution 4.___ \n",
    "\n",
    "</div>"
   ]
  },
  {
   "cell_type": "markdown",
   "metadata": {},
   "source": [
    "$\\forall w\\in\\mathbb{R}^N$, $\\forall m = 0,1, \\dots, N-1$, \n",
    "\n",
    "$$\n",
    "\\dfrac{\\partial F}{\\partial w_m} = \\sum_{j=0}^{N-1} 2\\pi\\delta_{jm}\\cos(\\pi (w_j - w^*_j))\\sin(\\pi (w_j - w^*_j))\n",
    "$$\n",
    "$$\n",
    "\\dfrac{\\partial F}{\\partial w_m} = 2\\pi\\cos(\\pi (w_m - w^*_m))\\sin(\\pi (w_m - w^*_m))\n",
    "$$\n",
    "$$\n",
    "\\dfrac{\\partial F}{\\partial w_m}=\\pi\\sin(2\\pi (w_m - w^*_m))\n",
    "$$\n",
    "\n",
    "Donc, on retrouve bien :\n",
    "\n",
    "$$\\nabla F(w) = \\left[  \\pi\\sin(2\\pi (w_i - w^*_i))\\right]_{i \\in \\{ 1, \\,...\\, ,N-1\\}}$$"
   ]
  },
  {
   "cell_type": "code",
   "execution_count": 48,
   "metadata": {},
   "outputs": [],
   "source": [
    "## Exemple d'une fonction régulière non convexe\n",
    "\n",
    "# Constructeur de F et Grad F\n",
    "buildF = lambda barw : lambda w : np.sum(\n",
    "                            np.sin(np.pi*(w - barw))**2 )\n",
    "buildGradF = lambda barw : lambda w : np.pi*np.sin(2*np.pi*(w - barw))\n",
    "\n",
    "# Fonction pour compter le nombre de composantes non nulles d'un vecteur\n",
    "count_non_zeros= lambda w: np.sum(np.where(w==0, 0, 1)) "
   ]
  },
  {
   "cell_type": "markdown",
   "metadata": {},
   "source": [
    "<a href=\"#toc\">top</a>\n",
    "&nbsp;&nbsp;&nbsp;&nbsp;&nbsp;&nbsp;&nbsp;&nbsp;&nbsp;&nbsp;&nbsp;&nbsp;&nbsp;&nbsp;\n",
    "&nbsp;&nbsp;&nbsp;&nbsp;&nbsp;\n",
    "<a href=\"#I\">I.</a>\n",
    "&nbsp;&nbsp;&nbsp;&nbsp;&nbsp;&nbsp;&nbsp;&nbsp;\n",
    "<a href=\"#I1\">I.1</a>\n",
    "&nbsp;&nbsp;&nbsp;&nbsp;&nbsp;&nbsp;&nbsp;&nbsp;\n",
    "<a href=\"#I2\">I.2</a>\n",
    "&nbsp;&nbsp;&nbsp;&nbsp;&nbsp;&nbsp;&nbsp;&nbsp;\n",
    "<a href=\"#I3\">I.3</a>\n",
    "&nbsp;&nbsp;&nbsp;&nbsp;&nbsp;&nbsp;&nbsp;&nbsp;&nbsp;&nbsp;&nbsp;&nbsp;&nbsp;&nbsp;\n",
    "&nbsp;&nbsp;&nbsp;&nbsp;&nbsp;\n",
    "<a href=\"#II\">II.</a>\n",
    "&nbsp;&nbsp;&nbsp;&nbsp;&nbsp;&nbsp;&nbsp;&nbsp;\n",
    "<a href=\"#II1\">II.1</a>\n",
    "&nbsp;&nbsp;&nbsp;&nbsp;&nbsp;&nbsp;&nbsp;&nbsp;\n",
    "<a href=\"#II2\">II.2</a>\n",
    "&nbsp;&nbsp;&nbsp;&nbsp;&nbsp;&nbsp;&nbsp;&nbsp;&nbsp;&nbsp;&nbsp;&nbsp;&nbsp;&nbsp;\n",
    "&nbsp;&nbsp;&nbsp;&nbsp;&nbsp;\n",
    "<a href=\"#III\">III.</a>\n",
    "&nbsp;&nbsp;&nbsp;&nbsp;&nbsp;&nbsp;&nbsp;&nbsp;&nbsp;&nbsp;&nbsp;&nbsp;&nbsp;&nbsp;\n",
    "&nbsp;&nbsp;&nbsp;&nbsp;&nbsp;\n",
    "<a href=\"#bot\">bot.</a>"
   ]
  },
  {
   "cell_type": "markdown",
   "metadata": {},
   "source": [
    "**Exercice 5** Mettez en oeuvre ISTA (compléter la quatrième boîte ci-dessous) pour la fonction précédente. On prendra $N=100$ et $\\lambda=2$. \n",
    "\n",
    "Faites des représentations graphiques des valeurs prises par $F_\\lambda$ au cours des itérations, ainsi que du nombre de composantes non nulles de chaque itéré.<br>\n",
    "\n",
    "Faites varier la valeur de $\\lambda$ et noter vos observations et commentaires dans la boîte dédiée.\n",
    "\n",
    "_Indication :_ La méthode numpy _np.where_ peut se révéler utile. Si _w_ est un tableau numpy, disons un vecteur, la  commande\n",
    "<br>\n",
    "&nbsp;&nbsp;&nbsp;&nbsp;&nbsp;&nbsp;&nbsp;&nbsp;&nbsp;&nbsp;&nbsp;&nbsp;&nbsp;&nbsp;\n",
    "&nbsp;&nbsp;&nbsp;&nbsp;&nbsp;&nbsp;&nbsp;&nbsp;&nbsp;&nbsp;&nbsp;&nbsp;&nbsp;&nbsp;\n",
    "&nbsp;&nbsp;&nbsp;&nbsp;&nbsp;&nbsp;&nbsp;&nbsp;&nbsp;&nbsp;&nbsp;&nbsp;&nbsp;&nbsp;\n",
    "&nbsp;&nbsp;&nbsp;&nbsp;&nbsp;&nbsp;&nbsp;&nbsp;&nbsp;&nbsp;&nbsp;&nbsp;&nbsp;&nbsp;\n",
    "v$=$np.where(abs(w)<1, f(w), g(w))<br>\n",
    "construit un tableau numpy _v_ de même taille que _w_ avec la règle suivante.   \n",
    "$$\n",
    "\\text{v}[i]=\\begin{cases} \\text{f}(\\text{w}[i])&\\text{si }\\text{abs}(\\text{w}[i])<1,\\\\\n",
    "\\text{g}(\\text{w}[i])&\\text{sinon}.\\end{cases}\n",
    "$$\n",
    "\n",
    "Nous indiquons aussi que la norme $\\ell^1$ d'un tableau numpy _w_ s'obtient à la l'aide de la méthode _numpy.linalg.norm_. Par exemple, la commande<br>\n",
    "&nbsp;&nbsp;&nbsp;&nbsp;&nbsp;&nbsp;&nbsp;&nbsp;&nbsp;&nbsp;&nbsp;&nbsp;&nbsp;&nbsp;\n",
    "&nbsp;&nbsp;&nbsp;&nbsp;&nbsp;&nbsp;&nbsp;&nbsp;&nbsp;&nbsp;&nbsp;&nbsp;&nbsp;&nbsp;\n",
    "&nbsp;&nbsp;&nbsp;&nbsp;&nbsp;&nbsp;&nbsp;&nbsp;&nbsp;&nbsp;&nbsp;&nbsp;&nbsp;&nbsp;\n",
    "&nbsp;&nbsp;&nbsp;&nbsp;&nbsp;&nbsp;&nbsp;&nbsp;&nbsp;&nbsp;&nbsp;&nbsp;&nbsp;&nbsp;\n",
    "norme_l1$=$ln.norm(w, ord=1))<br>\n",
    "calcule la somme  $\\sum_i$*w*[$i$] (et attribue cette valeur à la variable *norme_l1*).\n"
   ]
  },
  {
   "cell_type": "code",
   "execution_count": 49,
   "metadata": {},
   "outputs": [],
   "source": [
    "## (Préliminaire pour l'exercice 5)\n",
    "# Construction du problème\n",
    "N = 100\n",
    "w_star = .5*nprd.random(N) - .25\n",
    "F, GradF = buildF(w_star), buildGradF(w_star)"
   ]
  },
  {
   "cell_type": "code",
   "execution_count": 50,
   "metadata": {},
   "outputs": [],
   "source": [
    "## (Préliminaire pour l'exercice 5)\n",
    "# Paramètres de l'algorithme d'optimisation \n",
    "alpha = .1\n",
    "Lambda = 2\n",
    "threshold = alpha*Lambda # threshold\n",
    "Nitermax =15"
   ]
  },
  {
   "cell_type": "code",
   "execution_count": 51,
   "metadata": {},
   "outputs": [],
   "source": [
    "## (Préliminaire pour l'exercice 5)\n",
    "# Initialisation\n",
    "w = .5*nprd.random(N) - .25\n",
    "niter=0\n",
    "\n",
    "# On créé deux listes pour l'analyse du comportement de l'algorithme d'optimisation.\n",
    "# La liste E pour stocker les valeurs de la fonctions à minimiser.\n",
    "E = [(F(w) + Lambda*ln.norm(w, ord=1))]\n",
    "# La liste NZ pour stocker le nombre d'éléments nons nuks des w^k.\n",
    "NZ = [count_non_zeros(w)] "
   ]
  },
  {
   "cell_type": "code",
   "execution_count": 67,
   "metadata": {},
   "outputs": [],
   "source": [
    "def ISTA(Lambda,Nitermax):\n",
    "    # Initialisation\n",
    "    w = .5*nprd.random(N) - .25\n",
    "    niter=0\n",
    "    count_iter = [niter]\n",
    "    Fv=[F(w)]\n",
    "    W = [w]\n",
    "    while (niter < Nitermax):\n",
    "        dF = GradF(w)\n",
    "        wbar = w - alpha*dF\n",
    "        w= np.where(np.abs(wbar)<=threshold,0,np.where(wbar>0,wbar-threshold,wbar+threshold))\n",
    "        W.append(w)\n",
    "        Fv.append(F(w))\n",
    "        E.append ((F(w) + Lambda*ln.norm(w, ord=1)))\n",
    "        NZ.append(count_non_zeros(w))\n",
    "        count_iter.append(niter+1)\n",
    "        niter += 1\n",
    "    W=np.array(W)\n",
    "    return (Fv,E,NZ,W, count_iter)   #(F_lambda,F,NZ)"
   ]
  },
  {
   "cell_type": "code",
   "execution_count": 53,
   "metadata": {},
   "outputs": [
    {
     "name": "stdout",
     "output_type": "stream",
     "text": [
      "[100, 32, 52, 52, 52, 52, 52, 52, 52, 52, 52, 52, 52, 52, 52, 52]\n",
      "[0, 1, 2, 3, 4, 5, 6, 7, 8, 9, 10, 11, 12, 13, 14, 15]\n"
     ]
    }
   ],
   "source": [
    "## Solution 5\n",
    "Fv,E,NZ,W, count_iter = ISTA(Lambda, Nitermax)"
   ]
  },
  {
   "cell_type": "code",
   "execution_count": 64,
   "metadata": {},
   "outputs": [
    {
     "data": {
      "text/plain": [
       "Text(0, 0.5, 'F_lambda')"
      ]
     },
     "execution_count": 64,
     "metadata": {},
     "output_type": "execute_result"
    },
    {
     "data": {
      "image/png": "[encoded data removed]",
      "text/plain": [
       "<Figure size 1008x432 with 3 Axes>"
      ]
     },
     "metadata": {},
     "output_type": "display_data"
    }
   ],
   "source": [
    "fig, ax = plt.subplots(1, 3, figsize=(14, 6))\n",
    "\n",
    "ax[0].plot(Fv)\n",
    "ax[0].set_title('Evolution of F')\n",
    "ax[0].set_xlabel(\"Number of iterations\")\n",
    "ax[0].set_ylabel(\"F(w)\")\n",
    "\n",
    "ax[1].plot(count_iter,NZ)\n",
    "ax[1].set_title('Evolution of non-null w componants')\n",
    "ax[1].set_xlabel(\"Number of iterations\")\n",
    "ax[1].set_ylabel(\"Non-null componants\")\n",
    "\n",
    "ax[2].plot(E)\n",
    "ax[2].set_title('Evolution of F_lambda')\n",
    "ax[2].set_xlabel(\"Number of iterations\")\n",
    "ax[2].set_ylabel(\"F_lambda\")"
   ]
  },
  {
   "cell_type": "markdown",
   "metadata": {},
   "source": [
    "<div class=\"alert alert-block alert-info\" style=\"margin-top: 0px\">\n",
    "    \n",
    "___Solution 5___. (commentaires). \n",
    "    \n",
    "</div>   "
   ]
  },
  {
   "cell_type": "markdown",
   "metadata": {},
   "source": [
    "**Exercice 6** Nous proposons la fonction\n",
    "\n",
    "$$\n",
    "F(w):=\\sum_{j=0}^{N-1} \\sin^2(w_j - w_{j-1}),\n",
    "$$\n",
    "où les indices $j$ sont compris modulo $N$.\n",
    "\n",
    "a) Justifiez la formule de $\\nabla F$ donnée dans la boîte suivante.\n",
    "\n",
    "b) Quels sont les minimiseurs de $F$ ?\n",
    "\n",
    "c) Quels sont les minimiseurs de $F_\\lambda$ pour $\\lambda>0$ ?\n",
    "\n",
    "d) Appliquez votre implémentation d'ISTA à l'optimisation de $F_\\lambda$. Dans le cas $\\lambda=0$, est-ce que les itérations convergent vers un minimiseur de $F$ ?\n",
    "\n",
    "e) Dans le cas $\\lambda>0$, est-ce que les itérations convergent vers un minimiseur de $F_\\lambda$ ? Sinon, pourquoi ?\n",
    "\n",
    "f) Les itérées convergent-elles vers un vecteur proche d'un minimiseur de $F$ ? Les solutions trouvées sont elles parcimonieuses ? Vos résultats numériques sont-ils cohérents avec (4) ? Justifier."
   ]
  },
  {
   "cell_type": "markdown",
   "metadata": {},
   "source": [
    "<u>Réponses : </u>"
   ]
  },
  {
   "cell_type": "markdown",
   "metadata": {},
   "source": [
    "a) On a $\\forall w\\in\\mathbb{R}^N$, $\\forall m = 0,1, \\dots, N-1$, \n",
    "\n",
    "$$\n",
    "\\dfrac{\\partial F}{\\partial w_m} = \\sum_{j=0}^{N-1} 2(\\delta_{j,m}-\\delta_{j-1,m})\\cos( w_j - w_{j-1})\\sin( w_j - w_{j-1})\n",
    "$$\n",
    "$$\n",
    "\\dfrac{\\partial F}{\\partial w_m} = 2 [ \\cos( w_m - w_{m-1})\\sin(w_m - w_{m-1})-\\cos(w_{m+1} - w_{m})\\sin(w_{m-1} - w_{m})]\n",
    "$$\n",
    "$$\n",
    "\\dfrac{\\partial F}{\\partial w_m} = \\sin(2(w_m - w_{m-1})) -\\sin(2(w_{m+1} - w_m))\n",
    "$$\n",
    "$$\n",
    "\\dfrac{\\partial F}{\\partial w_m} = 2 \\sin(2w_m-w_{m-1}-w_{m+1})\\cos(w_{m+1}-w_{m-1})\n",
    "$$\n",
    "\n",
    "D'où, \n",
    "\n",
    "$$\\nabla F(w) = [2 \\sin(2w_i-w_{i-1}-w_{i+1})\\cos(w_{i+1}-w_{i-1})]_{i \\in \\{ 1, \\,...\\, ,N-1\\}}$$"
   ]
  },
  {
   "cell_type": "markdown",
   "metadata": {},
   "source": [
    "b) De la question précédente, on conclut que F est minimale lorsque :\n",
    "\n",
    "$w_{m+1} - w_{m-1} = \\pi/2 \\mod \\pi$ ou $2w_m = w_{m+1} + w_{m-1} \\mod \\pi$"
   ]
  },
  {
   "cell_type": "code",
   "execution_count": 65,
   "metadata": {},
   "outputs": [],
   "source": [
    "F = lambda w : np.sum( np.sin(w - np.roll(w,1))**2 )\n",
    "GradF = lambda w : 2*np.sin(2*w - np.roll(w,1) - np.roll(w,-1))*np.cos(np.roll(w,1)                                                                   - np.roll(w,-1))"
   ]
  },
  {
   "cell_type": "code",
   "execution_count": 69,
   "metadata": {},
   "outputs": [
    {
     "data": {
      "text/plain": [
       "Text(0, 0.5, 'F(w)')"
      ]
     },
     "execution_count": 69,
     "metadata": {},
     "output_type": "execute_result"
    },
    {
     "data": {
      "image/png": "[encoded data removed]",
      "text/plain": [
       "<Figure size 432x288 with 1 Axes>"
      ]
     },
     "metadata": {},
     "output_type": "display_data"
    }
   ],
   "source": [
    "(Fv,E,NZ,W, count_iter)=ISTA(Lambda=1.1,Nitermax=20)\n",
    "plt.style.use(\"ggplot\")\n",
    "plt.figure()\n",
    "plt.plot(Fv)\n",
    "plt.title('Evolution de la fonction F')\n",
    "plt.xlabel(\"nombre d'itérations\")\n",
    "plt.ylabel(\"F(w)\")"
   ]
  },
  {
   "cell_type": "markdown",
   "metadata": {},
   "source": [
    "<div class=\"alert alert-block alert-info\" style=\"margin-top: 0px\">\n",
    "    \n",
    "   ___Solution 6.___ \n",
    "\n",
    " </div>"
   ]
  },
  {
   "cell_type": "markdown",
   "metadata": {},
   "source": [
    "# III. Application à l'optimisation stochastique <a id='III'></a>"
   ]
  },
  {
   "cell_type": "markdown",
   "metadata": {},
   "source": [
    "<a href=\"#toc\">top</a>\n",
    "&nbsp;&nbsp;&nbsp;&nbsp;&nbsp;&nbsp;&nbsp;&nbsp;&nbsp;&nbsp;&nbsp;&nbsp;&nbsp;&nbsp;\n",
    "&nbsp;&nbsp;&nbsp;&nbsp;&nbsp;\n",
    "<a href=\"#I\">I.</a>\n",
    "&nbsp;&nbsp;&nbsp;&nbsp;&nbsp;&nbsp;&nbsp;&nbsp;\n",
    "<a href=\"#I1\">I.1</a>\n",
    "&nbsp;&nbsp;&nbsp;&nbsp;&nbsp;&nbsp;&nbsp;&nbsp;\n",
    "<a href=\"#I2\">I.2</a>\n",
    "&nbsp;&nbsp;&nbsp;&nbsp;&nbsp;&nbsp;&nbsp;&nbsp;\n",
    "<a href=\"#I3\">I.3</a>\n",
    "&nbsp;&nbsp;&nbsp;&nbsp;&nbsp;&nbsp;&nbsp;&nbsp;&nbsp;&nbsp;&nbsp;&nbsp;&nbsp;&nbsp;\n",
    "&nbsp;&nbsp;&nbsp;&nbsp;&nbsp;\n",
    "<a href=\"#II\">II.</a>\n",
    "&nbsp;&nbsp;&nbsp;&nbsp;&nbsp;&nbsp;&nbsp;&nbsp;\n",
    "<a href=\"#II1\">II.1</a>\n",
    "&nbsp;&nbsp;&nbsp;&nbsp;&nbsp;&nbsp;&nbsp;&nbsp;\n",
    "<a href=\"#II2\">II.2</a>\n",
    "&nbsp;&nbsp;&nbsp;&nbsp;&nbsp;&nbsp;&nbsp;&nbsp;&nbsp;&nbsp;&nbsp;&nbsp;&nbsp;&nbsp;\n",
    "&nbsp;&nbsp;&nbsp;&nbsp;&nbsp;\n",
    "<a href=\"#III\">III.</a>\n",
    "&nbsp;&nbsp;&nbsp;&nbsp;&nbsp;&nbsp;&nbsp;&nbsp;&nbsp;&nbsp;&nbsp;&nbsp;&nbsp;&nbsp;\n",
    "&nbsp;&nbsp;&nbsp;&nbsp;&nbsp;\n",
    "<a href=\"#bot\">bot.</a>"
   ]
  },
  {
   "cell_type": "markdown",
   "metadata": {},
   "source": [
    "__Exercice 7.__\n",
    "\n",
    "\n",
    "a) Implémentez ISTA dans le cadre du problème de classification et de réseaux de neurones jouets définis ci-dessous. On prendra le taux d'apprentissage $\\alpha=5\\cdot10^{-2}$ et $\\lambda=10^{-3}$.\n",
    "\n",
    "Pour ce qui est de l'algorithme, les changements par rapport à ISTA sont :\n",
    "\n",
    "$\\qquad\\alpha$) dans la première étape de (12) on remplace $\\nabla F(A)$ par une moyenne des $\\nabla f_i(A)$ avec $i$ parcourant un mini-lot $I$ d'indices tirés au hasard.\n",
    "\n",
    "$\\qquad\\beta$) On utilise une stratégie de taux d'accroissements décroissants.\n",
    "\n",
    "Pour l'éude (graphique) de l'algorithme, on stockera l'erreur totale sur l'échantillon d'apprentissage ainsi que le nombre de composantes non nulles du paramètre $A$ au cours des époques.\n",
    "\n",
    "*Indications :*<br> \n",
    "$\\qquad\\qquad\\bullet$ La méthode _nn.count_non_zero(A)_ renvoie le nombre de composantes non nulles de la liste de coefficients _A_.<br> \n",
    "$\\qquad\\qquad\\bullet$ Combinée avec *np.where()*, la méthode *nn.maps()* est très pratique pour calculer les itérés de ISTA.<br>Si $f$ est une fonction qui prend en paramètres un tableau numpy _X_ et (éventuellement) un paramètre _p_ et renvoie un tableau de la même taille que _X_ alors, la méthode _nn.maps(f,A,param=p, output=False)_ remplace tous les coefficients $A_i$ de _A_ par *f(*$A_i$*,p)*.<br>\n",
    "\n",
    "\n",
    "\n",
    "\n",
    "b) Observez les résultats numériques obtenus avec les paramètres proposés dans les deux boîtes suivantes. \n",
    "\n",
    "c) Essayez différentes valeurs pour $\\lambda$ et commentez."
   ]
  },
  {
   "cell_type": "markdown",
   "metadata": {},
   "source": [
    "<div class=\"alert alert-block alert-info\" style=\"margin-top: 0px\">\n",
    "\n",
    "___Solution 7.___ \n",
    "\n",
    "</div>"
   ]
  },
  {
   "cell_type": "code",
   "execution_count": 12,
   "metadata": {
    "scrolled": false
   },
   "outputs": [
    {
     "data": {
      "image/png": "[encoded data removed]",
      "text/plain": [
       "<Figure size 432x288 with 1 Axes>"
      ]
     },
     "metadata": {
      "needs_background": "light"
     },
     "output_type": "display_data"
    }
   ],
   "source": [
    "# pb\n",
    "pb = ToyPb(name = \"ring\", bounds = (-1,1), loss=\"demanding\")\n",
    "\n",
    "# data\n",
    "ndata = 1000\n",
    "data = nD_data(n = ndata, pb = pb, init_pred=True)\n",
    "\n",
    "data.show_class()\n",
    "pb.show_border('k--')\n",
    "plt.legend(loc=1, fontsize=15)\n",
    "plt.show()\n",
    "\n",
    "# nn\n",
    "CardNodes = (2, 8, 8, 8, 1)\n",
    "nn= ToyNN(card = CardNodes, coef_bounds=(-1,1,-1,1),  chi=\"tanh\", grid=(-1,1,41))"
   ]
  },
  {
   "cell_type": "code",
   "execution_count": 13,
   "metadata": {},
   "outputs": [],
   "source": [
    "## Paramètres de l'algorithme"
   ]
  },
  {
   "cell_type": "code",
   "execution_count": 14,
   "metadata": {},
   "outputs": [],
   "source": [
    "## Initialisations "
   ]
  },
  {
   "cell_type": "code",
   "execution_count": 15,
   "metadata": {},
   "outputs": [],
   "source": [
    "## ISTA-Iterations\n"
   ]
  },
  {
   "cell_type": "code",
   "execution_count": 16,
   "metadata": {
    "scrolled": false
   },
   "outputs": [],
   "source": [
    "## Représentations graphiques de l'évolution de l'erreur et d au cours des époques.\n"
   ]
  },
  {
   "cell_type": "markdown",
   "metadata": {},
   "source": [
    "<a id='bot'></a>\n",
    "<a href=\"#toc\">top</a>\n",
    "&nbsp;&nbsp;&nbsp;&nbsp;&nbsp;&nbsp;&nbsp;&nbsp;&nbsp;&nbsp;&nbsp;&nbsp;&nbsp;&nbsp;\n",
    "&nbsp;&nbsp;&nbsp;&nbsp;&nbsp;\n",
    "<a href=\"#I\">I.</a>\n",
    "&nbsp;&nbsp;&nbsp;&nbsp;&nbsp;&nbsp;&nbsp;&nbsp;\n",
    "<a href=\"#I1\">I.1</a>\n",
    "&nbsp;&nbsp;&nbsp;&nbsp;&nbsp;&nbsp;&nbsp;&nbsp;\n",
    "<a href=\"#I2\">I.2</a>\n",
    "&nbsp;&nbsp;&nbsp;&nbsp;&nbsp;&nbsp;&nbsp;&nbsp;\n",
    "<a href=\"#I3\">I.3</a>\n",
    "&nbsp;&nbsp;&nbsp;&nbsp;&nbsp;&nbsp;&nbsp;&nbsp;&nbsp;&nbsp;&nbsp;&nbsp;&nbsp;&nbsp;\n",
    "&nbsp;&nbsp;&nbsp;&nbsp;&nbsp;\n",
    "<a href=\"#II\">II.</a>\n",
    "&nbsp;&nbsp;&nbsp;&nbsp;&nbsp;&nbsp;&nbsp;&nbsp;\n",
    "<a href=\"#II1\">II.1</a>\n",
    "&nbsp;&nbsp;&nbsp;&nbsp;&nbsp;&nbsp;&nbsp;&nbsp;\n",
    "<a href=\"#II2\">II.2</a>\n",
    "&nbsp;&nbsp;&nbsp;&nbsp;&nbsp;&nbsp;&nbsp;&nbsp;&nbsp;&nbsp;&nbsp;&nbsp;&nbsp;&nbsp;\n",
    "&nbsp;&nbsp;&nbsp;&nbsp;&nbsp;\n",
    "<a href=\"#III\">III.</a>\n",
    "&nbsp;&nbsp;&nbsp;&nbsp;&nbsp;&nbsp;&nbsp;&nbsp;&nbsp;&nbsp;&nbsp;&nbsp;&nbsp;&nbsp;\n",
    "&nbsp;&nbsp;&nbsp;&nbsp;&nbsp;\n",
    "<a href=\"#bot\">bot.</a>"
   ]
  }
 ],
 "metadata": {
  "anaconda-cloud": {},
  "colab": {
   "collapsed_sections": [
    "GafO0zXoJ6Cx",
    "5l_mvC1OJ6Da",
    "ZzS5-IzwaKn3",
    "89AjhkJ2aKoB"
   ],
   "name": "ToyNN_class.ipynb",
   "provenance": [],
   "toc_visible": true
  },
  "kernelspec": {
   "display_name": "Python 3.10.4 64-bit",
   "language": "python",
   "name": "python3"
  },
  "language_info": {
   "codemirror_mode": {
    "name": "ipython",
    "version": 3
   },
   "file_extension": ".py",
   "mimetype": "text/x-python",
   "name": "python",
   "nbconvert_exporter": "python",
   "pygments_lexer": "ipython3",
   "version": "3.10.4"
  },
  "vscode": {
   "interpreter": {
    "hash": "3e86c5fcaeb7504a0c486c54f5e7f20bce8324b88f64f392f8b6244d9f0e8929"
   }
  }
 },
 "nbformat": 4,
 "nbformat_minor": 1
}
